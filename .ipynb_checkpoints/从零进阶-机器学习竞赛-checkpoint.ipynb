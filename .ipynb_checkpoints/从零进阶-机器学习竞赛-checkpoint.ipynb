{
 "cells": [
  {
   "cell_type": "markdown",
   "metadata": {
    "slideshow": {
     "slide_type": "-"
    }
   },
   "source": [
    "<div style=\"position:relative;\">\n",
    "    <img src=\"./image/121.png\" align=right/>    \n",
    "    <div style=\"position:absolute;left:100px; top:450px;font-size:70px;color:#fff;bolder'微软雅黑';\">从零进阶 — 机器学习竞赛 \n",
    "    </div> \n",
    "    <div style=\"position:absolute;left:700px; top:530px;font-size:20px;color:#fff;bolder'微软雅黑';\"> Duke  @  2018.8.4\n",
    "    </div> \n",
    "</div>"
   ]
  },
  {
   "cell_type": "markdown",
   "metadata": {
    "slideshow": {
     "slide_type": "slide"
    }
   },
   "source": [
    "# 主要内容：\n",
    "- 什么是机器学习竞赛？\n",
    "- 机器学习竞赛流程是怎样的？\n",
    "- 为什么鼓励新手参加机器学习竞赛？\n",
    "- 如何准备机器学习竞赛？\n",
    "- 机器学习竞赛中如何高效参考文献?\n",
    "- 机器学习竞赛中常用模型和软件有哪些?\n",
    "- 机器学习竞赛案例\n",
    "- Q&A"
   ]
  },
  {
   "cell_type": "markdown",
   "metadata": {
    "slideshow": {
     "slide_type": "slide"
    }
   },
   "source": [
    "# 什么是机器学习竞赛？\n",
    "\n",
    "> 通过挖掘和探索数据，利用机器学习方法解决社会或业务问题。\n",
    "\n",
    "- 问题必须困难：竞赛不应该是一个下午就能解决的任务。为了得到最好的投资回报，主办公司会提交他们最大最难的问题。\n",
    "\n",
    "- 解决方案必须新：要赢得最新的竞赛，你通常需要进行扩展研究、定制算法、训练先进的模型等等。\n",
    "\n",
    "- 表现必须能比较：竞赛必须要决出优胜者，所以你和其他对手的解决方案必须要被评分。\n"
   ]
  },
  {
   "cell_type": "markdown",
   "metadata": {
    "slideshow": {
     "slide_type": "slide"
    }
   },
   "source": [
    "- [Kaggle](https://www.kaggle.com)\n",
    "- [TianChi](https://tianchi.aliyun.com)\n",
    "- [JData](https://jdata.jd.com)\n",
    "- [DataCastle](www.pkbigdata.com)\n",
    "- [DataFountain](www.datafountain.cn)\n",
    "- [CCF](www.datafountain.cn)\n",
    "- [Tencent Social Ads]()\n",
    "- [Di-Tech](https://ditech.didichuxing.com)\n",
    "- ……"
   ]
  },
  {
   "cell_type": "markdown",
   "metadata": {
    "slideshow": {
     "slide_type": "slide"
    }
   },
   "source": [
    "# 机器学习竞赛流程是怎样的？\n",
    "- 大赛审题\n",
    "- 报名组队\n",
    "- 下载数据\n",
    "\n"
   ]
  },
  {
   "cell_type": "markdown",
   "metadata": {
    "slideshow": {
     "slide_type": "slide"
    }
   },
   "source": [
    "- 特征工程、建立模型\n",
    "![](./image/2.jpg)"
   ]
  },
  {
   "cell_type": "markdown",
   "metadata": {
    "slideshow": {
     "slide_type": "slide"
    }
   },
   "source": [
    "- 参数调整\n",
    "![](./image/3.jpg)"
   ]
  },
  {
   "cell_type": "markdown",
   "metadata": {
    "slideshow": {
     "slide_type": "slide"
    }
   },
   "source": [
    "- 模型融合*\n",
    "- 模型评价\n",
    "\n",
    "- 生成提交\n",
    "- 循环……"
   ]
  },
  {
   "cell_type": "markdown",
   "metadata": {
    "slideshow": {
     "slide_type": "slide"
    }
   },
   "source": [
    "# 为什么鼓励新手参加机器学习竞赛？\n",
    "\n",
    "> 比赛是为了更好地学习，而不是赚钱\n",
    "\n",
    "\n"
   ]
  },
  {
   "cell_type": "markdown",
   "metadata": {
    "slideshow": {
     "slide_type": "slide"
    }
   },
   "source": [
    "# 如何准备机器学习竞赛？\n",
    "> **理论:编程 = 3:7**\n",
    "\n",
    "\n",
    "\n",
    "- [《机器学习》作者：周志华](https://book.douban.com/subject/26708119/)\n",
    "\n",
    "- [《Python核心编程（第3版）》](https://book.douban.com/subject/26801374/)\n",
    "\n",
    "- [《利用Python进行数据分析》译者: 唐学韬 ](https://book.douban.com/subject/25779298/)\n",
    "\n",
    "- [《Keras快速上手：基于Python的深度学习实战》](https://book.douban.com/subject/27093647/)\n",
    "\n",
    "\n",
    "[Profiling Top Kagglers: Bestfitting, Currently #1 in the World](http://blog.kaggle.com/2018/05/07/profiling-top-kagglers-bestfitting-currently-1-in-the-world/)"
   ]
  },
  {
   "cell_type": "markdown",
   "metadata": {
    "slideshow": {
     "slide_type": "slide"
    }
   },
   "source": [
    "# 机器学习竞赛中如何高效参考文献?\n",
    "- GitHub\n",
    "- 知网、万方、维普\n",
    "- beachmark"
   ]
  },
  {
   "cell_type": "markdown",
   "metadata": {
    "slideshow": {
     "slide_type": "slide"
    }
   },
   "source": [
    "# 机器学习竞赛中常用模型和软件有哪些?\n",
    "- 模型\n",
    "    - XGBoost\n",
    "    - LightGBM\n",
    "    - CatBoost\n",
    "    - 经典模型：Regid（回归）、Lasso（回归）、Logistics（分类）、SVM（分类+回归）、RandomForest（分类+回归）……\n",
    "    \n",
    "    ```    from sklearn.* import * \n",
    "    ```\n"
   ]
  },
  {
   "cell_type": "markdown",
   "metadata": {
    "slideshow": {
     "slide_type": "slide"
    }
   },
   "source": [
    "- 软件\n",
    "    - Python\n",
    "    - R\n",
    "    - Julia"
   ]
  },
  {
   "cell_type": "markdown",
   "metadata": {
    "slideshow": {
     "slide_type": "slide"
    }
   },
   "source": [
    "- 常用Python库\n",
    "    - Numpy\n",
    "    - Scipy\n",
    "    - Pandas\n",
    "    - Matplotlib\n",
    "    - Sklearn    \n",
    "    - Xgboost\n",
    "    - Keras\n",
    "    - Gensim\n",
    "    - NLTK\n",
    "    - ……"
   ]
  },
  {
   "cell_type": "markdown",
   "metadata": {
    "slideshow": {
     "slide_type": "slide"
    }
   },
   "source": [
    "### 机器学习竞赛案例\n"
   ]
  },
  {
   "cell_type": "markdown",
   "metadata": {
    "slideshow": {
     "slide_type": "slide"
    }
   },
   "source": [
    "# Q&A"
   ]
  }
 ],
 "metadata": {
  "celltoolbar": "Slideshow",
  "kernelspec": {
   "display_name": "Python 3",
   "language": "python",
   "name": "python3"
  },
  "language_info": {
   "codemirror_mode": {
    "name": "ipython",
    "version": 3
   },
   "file_extension": ".py",
   "mimetype": "text/x-python",
   "name": "python",
   "nbconvert_exporter": "python",
   "pygments_lexer": "ipython3",
   "version": "3.6.4"
  }
 },
 "nbformat": 4,
 "nbformat_minor": 2
}
